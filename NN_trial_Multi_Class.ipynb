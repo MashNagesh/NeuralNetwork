{
 "cells": [
  {
   "cell_type": "code",
   "execution_count": 1,
   "metadata": {
    "collapsed": true
   },
   "outputs": [],
   "source": [
    "# Trial of Matt Mazur BP example - Mutli class classification\n",
    "import numpy as np\n",
    "import pandas as pd"
   ]
  },
  {
   "cell_type": "code",
   "execution_count": 2,
   "metadata": {
    "collapsed": true
   },
   "outputs": [],
   "source": [
    "def sigmoid(x) :   return 1/(1+np.exp(-x))\n",
    "def der_sigmoid(x) : return x*(1-x)"
   ]
  },
  {
   "cell_type": "code",
   "execution_count": 3,
   "metadata": {
    "collapsed": true
   },
   "outputs": [],
   "source": [
    "#setting variables\n",
    "epoch = 100000 # Number of time to iterate\n",
    "lr = 0.5 #Learning Rate\n",
    "i = np.array ([[0.05,0.1]]) # Single record input array\n",
    "o = np.array ([[.01,0.99]]) # Output for the Single training example\n",
    "output_neurons = 2\n",
    "hidden_neurons = 2"
   ]
  },
  {
   "cell_type": "code",
   "execution_count": 4,
   "metadata": {
    "collapsed": false
   },
   "outputs": [],
   "source": [
    "#Weights and bias initialisation\n",
    "wh= np.array ([[0.15,0.25],[0.2,0.3]]) # 2 x 2  matrix  - number of input features x number of hidden nodes\n",
    "bh=np.array([0.35])\n",
    "wout=np.array([[0.40,0.5],[0.45,0.55]]) # 2  x 2 - number of hidden nodes x number of output nodes\n",
    "bout=np.array([0.6])"
   ]
  },
  {
   "cell_type": "code",
   "execution_count": 5,
   "metadata": {
    "collapsed": false
   },
   "outputs": [
    {
     "name": "stdout",
     "output_type": "stream",
     "text": [
      "[[0.01008013 0.98991556]]\n"
     ]
    }
   ],
   "source": [
    "#Forward Pass\n",
    "for j in range(epoch):\n",
    "    hidden_layer_input = np.dot(i,wh)+bh\n",
    "    hidden_layer_output = sigmoid(hidden_layer_input)\n",
    "    out_layer_input = np.dot(hidden_layer_output,wout)+bout\n",
    "    out_layer_output = sigmoid(out_layer_input)\n",
    "    #Error Calculation\n",
    "    Etotal = (out_layer_output-o) # pd of Error w.r.t out_layer_output\n",
    "    #Backward Pass\n",
    "    #Delta Error at output layer = Etotal * Out_layer_output(1-Out-layer_output) = Etotal * der_sigmoid(out_layer_output)\n",
    "    delta_output = Etotal * der_sigmoid(out_layer_output)\n",
    "    delta_hidden = np.sum(delta_output*wout,axis=1)*der_sigmoid(hidden_layer_output)\n",
    "    wout = wout - lr*(delta_output*hidden_layer_output.T) # update weights only after full back propagation is done\n",
    "    wh = wh - lr*(delta_hidden*i.T)\n",
    "print (out_layer_output)\n"
   ]
  },
  {
   "cell_type": "code",
   "execution_count": null,
   "metadata": {
    "collapsed": true
   },
   "outputs": [],
   "source": []
  }
 ],
 "metadata": {
  "anaconda-cloud": {},
  "kernelspec": {
   "display_name": "Python [conda root]",
   "language": "python",
   "name": "conda-root-py"
  },
  "language_info": {
   "codemirror_mode": {
    "name": "ipython",
    "version": 3
   },
   "file_extension": ".py",
   "mimetype": "text/x-python",
   "name": "python",
   "nbconvert_exporter": "python",
   "pygments_lexer": "ipython3",
   "version": "3.5.2"
  }
 },
 "nbformat": 4,
 "nbformat_minor": 1
}
