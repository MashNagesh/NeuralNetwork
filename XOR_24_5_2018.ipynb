{
 "cells": [
  {
   "cell_type": "code",
   "execution_count": 1,
   "metadata": {
    "collapsed": true
   },
   "outputs": [],
   "source": [
    "import numpy as np\n",
    "import pandas as pd"
   ]
  },
  {
   "cell_type": "code",
   "execution_count": 2,
   "metadata": {
    "collapsed": true
   },
   "outputs": [],
   "source": [
    "def sigmoid(x) :   return 1/(1+np.exp(-x))\n",
    "def der_sigmoid(x) : return x*(1-x)"
   ]
  },
  {
   "cell_type": "code",
   "execution_count": 3,
   "metadata": {
    "collapsed": true
   },
   "outputs": [],
   "source": [
    "#setting variables# \n",
    "epoch = 100000 # Number of time to iterate\n",
    "lr = 0.5#Learning Rate\n",
    "i = np.array ([[0,0],[0,1],[1,0],[1,1]]) \n",
    "o = np.array ([[0],[1],[1],[0]]) \n",
    "output_neurons = 1\n",
    "hidden_neurons = 2\n"
   ]
  },
  {
   "cell_type": "code",
   "execution_count": 4,
   "metadata": {
    "collapsed": false
   },
   "outputs": [],
   "source": [
    "wh = np.random.rand(i.ndim,hidden_neurons)\n",
    "#wh = np.array([[0.16948406,0.17680212],[0.02936297,0.44675765]])\n",
    "bh=np.array([[0.35,0.25]])\n",
    "wout = np.random.rand(hidden_neurons,output_neurons)\n",
    "#wout = np.array([[0.24615436],[0.250234]])\n",
    "bout=np.array([[0.6]])\n"
   ]
  },
  {
   "cell_type": "code",
   "execution_count": 5,
   "metadata": {
    "collapsed": false
   },
   "outputs": [
    {
     "name": "stdout",
     "output_type": "stream",
     "text": [
      "After Training: [[ 0.00560542]\n",
      " [ 0.99527621]\n",
      " [ 0.99527526]\n",
      " [ 0.00481541]]\n"
     ]
    }
   ],
   "source": [
    "for j in range(epoch):\n",
    "    hidden_layer_input = np.dot(i,wh)+bh                                          #---------(1) \n",
    "    hidden_layer_output = sigmoid(hidden_layer_input)                                #---------(2)\n",
    "    out_layer_input = np.dot(hidden_layer_output,wout)+bout.T                        #---------(3)\n",
    "    out_layer_output = sigmoid(out_layer_input)                                      #---------(4)\n",
    "    #Error Calculation\n",
    "    Error = 0.5*(o-out_layer_output)**2                                             #---------(5)\n",
    "    #Backward Pass\n",
    "    dout_layer_output = (out_layer_output-o) # pd of Error w.r.t out_layer_output    #---------(5)\n",
    "    dout_layer_input = dout_layer_output * der_sigmoid(out_layer_output)              #---------(4)\n",
    "    dhidden_layer_output = dout_layer_input*wout.T                                   #---------(3)\n",
    "    dwout = np.dot(hidden_layer_output.T,dout_layer_input)                           #---------(3)\n",
    "    dbout = 1*np.sum(dout_layer_input,axis=0)                                        #---------(3)\n",
    "    dhidden_layer_input = dhidden_layer_output*der_sigmoid(hidden_layer_output)       #---------(2)\n",
    "    dwh = np.dot(i.T,dhidden_layer_input)                                            #---------(1)\n",
    "    dbh  = 1* np.sum(dhidden_layer_input,axis =0)                                    #---------(1)\n",
    "    #ignoring di calculation since it is not useful\n",
    "    #Weight updates\n",
    "    wout -= lr*(dwout) # update weights only after full back propagation is done\n",
    "    wh -= lr*(dwh)\n",
    "    bh -= lr*(dbh)\n",
    "    bout -=lr*(dbout)\n",
    "print (\"After Training:\",out_layer_output)"
   ]
  },
  {
   "cell_type": "code",
   "execution_count": null,
   "metadata": {
    "collapsed": false
   },
   "outputs": [],
   "source": [
    "print ('Shape of Input:',i.shape)\n",
    "print ('Shape of Output',o.shape)\n",
    "print ('Shape of Hidden layer weights',wh.shape)\n",
    "print ('Shape of Output Layer weights',wout.shape)\n",
    "print ('Shape of Hidden Layer input',hidden_layer_input.shape)\n",
    "print ('Shape of Hidden Layer output',hidden_layer_output.shape)\n",
    "print ('Shape of Output Layer input',out_layer_input.shape)\n",
    "print ('Shape of Output Layer Output',out_layer_output.shape)"
   ]
  }
 ],
 "metadata": {
  "kernelspec": {
   "display_name": "Python 3",
   "language": "python",
   "name": "python3"
  },
  "language_info": {
   "codemirror_mode": {
    "name": "ipython",
    "version": 3
   },
   "file_extension": ".py",
   "mimetype": "text/x-python",
   "name": "python",
   "nbconvert_exporter": "python",
   "pygments_lexer": "ipython3",
   "version": "3.6.0"
  }
 },
 "nbformat": 4,
 "nbformat_minor": 2
}
